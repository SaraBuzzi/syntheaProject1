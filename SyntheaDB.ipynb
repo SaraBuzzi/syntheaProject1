{
 "cells": [
  {
   "metadata": {
    "ExecuteTime": {
     "end_time": "2025-09-02T12:37:26.327452Z",
     "start_time": "2025-09-02T12:37:26.325069Z"
    }
   },
   "cell_type": "code",
   "source": [
    "from sqlalchemy import create_engine, text\n",
    "import pandas as pd\n",
    "from pathlib import Path\n",
    "import re\n",
    "from typing import Set, Dict, List, Tuple\n",
    "import os, uuid\n",
    "\n",
    "from sqlalchemy.orm.base import PASSIVE_OFF"
   ],
   "id": "fcefb5b38f473ee9",
   "outputs": [],
   "execution_count": 7
  },
  {
   "metadata": {
    "ExecuteTime": {
     "end_time": "2025-09-02T12:37:26.888023Z",
     "start_time": "2025-09-02T12:37:26.886263Z"
    }
   },
   "cell_type": "code",
   "source": [
    "USER = \"postgres\"\n",
    "HOST = \"localhost\"\n",
    "PORT = \"5432\"\n",
    "PASSWORD = \"user\"\n"
   ],
   "id": "7a96b03a8f7db476",
   "outputs": [],
   "execution_count": 8
  },
  {
   "metadata": {
    "ExecuteTime": {
     "end_time": "2025-09-02T12:37:28.857370Z",
     "start_time": "2025-09-02T12:37:27.709716Z"
    }
   },
   "cell_type": "code",
   "source": [
    "DB_ADMIN_URL = f\"postgresql+psycopg2://{USER}:{PASSWORD}@{HOST}:{PORT}/postgres\"\n",
    "engine_admin = create_engine(DB_ADMIN_URL, isolation_level=\"AUTOCOMMIT\")"
   ],
   "id": "164523c48625e420",
   "outputs": [],
   "execution_count": 9
  },
  {
   "metadata": {
    "ExecuteTime": {
     "end_time": "2025-09-02T12:37:41.279332Z",
     "start_time": "2025-09-02T12:37:41.001152Z"
    }
   },
   "cell_type": "code",
   "source": [
    "with engine_admin.connect() as conn:\n",
    "    conn.execute(text(\"CREATE DATABASE synthea\"))\n",
    "print(\"Database 'synthea' creato (o già esistente)\")"
   ],
   "id": "77deb64fab41af49",
   "outputs": [
    {
     "ename": "ProgrammingError",
     "evalue": "(psycopg2.errors.DuplicateDatabase) database \"synthea\" already exists\n\n[SQL: CREATE DATABASE synthea]\n(Background on this error at: https://sqlalche.me/e/20/f405)",
     "output_type": "error",
     "traceback": [
      "\u001B[31m---------------------------------------------------------------------------\u001B[39m",
      "\u001B[31mDuplicateDatabase\u001B[39m                         Traceback (most recent call last)",
      "\u001B[36mFile \u001B[39m\u001B[32m~/synthea/syntheaProject/.venv/lib/python3.13/site-packages/sqlalchemy/engine/base.py:1967\u001B[39m, in \u001B[36mConnection._exec_single_context\u001B[39m\u001B[34m(self, dialect, context, statement, parameters)\u001B[39m\n\u001B[32m   1966\u001B[39m     \u001B[38;5;28;01mif\u001B[39;00m \u001B[38;5;129;01mnot\u001B[39;00m evt_handled:\n\u001B[32m-> \u001B[39m\u001B[32m1967\u001B[39m         \u001B[38;5;28;43mself\u001B[39;49m\u001B[43m.\u001B[49m\u001B[43mdialect\u001B[49m\u001B[43m.\u001B[49m\u001B[43mdo_execute\u001B[49m\u001B[43m(\u001B[49m\n\u001B[32m   1968\u001B[39m \u001B[43m            \u001B[49m\u001B[43mcursor\u001B[49m\u001B[43m,\u001B[49m\u001B[43m \u001B[49m\u001B[43mstr_statement\u001B[49m\u001B[43m,\u001B[49m\u001B[43m \u001B[49m\u001B[43meffective_parameters\u001B[49m\u001B[43m,\u001B[49m\u001B[43m \u001B[49m\u001B[43mcontext\u001B[49m\n\u001B[32m   1969\u001B[39m \u001B[43m        \u001B[49m\u001B[43m)\u001B[49m\n\u001B[32m   1971\u001B[39m \u001B[38;5;28;01mif\u001B[39;00m \u001B[38;5;28mself\u001B[39m._has_events \u001B[38;5;129;01mor\u001B[39;00m \u001B[38;5;28mself\u001B[39m.engine._has_events:\n",
      "\u001B[36mFile \u001B[39m\u001B[32m~/synthea/syntheaProject/.venv/lib/python3.13/site-packages/sqlalchemy/engine/default.py:951\u001B[39m, in \u001B[36mDefaultDialect.do_execute\u001B[39m\u001B[34m(self, cursor, statement, parameters, context)\u001B[39m\n\u001B[32m    950\u001B[39m \u001B[38;5;28;01mdef\u001B[39;00m\u001B[38;5;250m \u001B[39m\u001B[34mdo_execute\u001B[39m(\u001B[38;5;28mself\u001B[39m, cursor, statement, parameters, context=\u001B[38;5;28;01mNone\u001B[39;00m):\n\u001B[32m--> \u001B[39m\u001B[32m951\u001B[39m     \u001B[43mcursor\u001B[49m\u001B[43m.\u001B[49m\u001B[43mexecute\u001B[49m\u001B[43m(\u001B[49m\u001B[43mstatement\u001B[49m\u001B[43m,\u001B[49m\u001B[43m \u001B[49m\u001B[43mparameters\u001B[49m\u001B[43m)\u001B[49m\n",
      "\u001B[31mDuplicateDatabase\u001B[39m: database \"synthea\" already exists\n",
      "\nThe above exception was the direct cause of the following exception:\n",
      "\u001B[31mProgrammingError\u001B[39m                          Traceback (most recent call last)",
      "\u001B[36mCell\u001B[39m\u001B[36m \u001B[39m\u001B[32mIn[10]\u001B[39m\u001B[32m, line 2\u001B[39m\n\u001B[32m      1\u001B[39m \u001B[38;5;28;01mwith\u001B[39;00m engine_admin.connect() \u001B[38;5;28;01mas\u001B[39;00m conn:\n\u001B[32m----> \u001B[39m\u001B[32m2\u001B[39m     \u001B[43mconn\u001B[49m\u001B[43m.\u001B[49m\u001B[43mexecute\u001B[49m\u001B[43m(\u001B[49m\u001B[43mtext\u001B[49m\u001B[43m(\u001B[49m\u001B[33;43m\"\u001B[39;49m\u001B[33;43mCREATE DATABASE synthea\u001B[39;49m\u001B[33;43m\"\u001B[39;49m\u001B[43m)\u001B[49m\u001B[43m)\u001B[49m\n\u001B[32m      3\u001B[39m \u001B[38;5;28mprint\u001B[39m(\u001B[33m\"\u001B[39m\u001B[33mDatabase \u001B[39m\u001B[33m'\u001B[39m\u001B[33msynthea\u001B[39m\u001B[33m'\u001B[39m\u001B[33m creato (o già esistente)\u001B[39m\u001B[33m\"\u001B[39m)\n",
      "\u001B[36mFile \u001B[39m\u001B[32m~/synthea/syntheaProject/.venv/lib/python3.13/site-packages/sqlalchemy/engine/base.py:1419\u001B[39m, in \u001B[36mConnection.execute\u001B[39m\u001B[34m(self, statement, parameters, execution_options)\u001B[39m\n\u001B[32m   1417\u001B[39m     \u001B[38;5;28;01mraise\u001B[39;00m exc.ObjectNotExecutableError(statement) \u001B[38;5;28;01mfrom\u001B[39;00m\u001B[38;5;250m \u001B[39m\u001B[34;01merr\u001B[39;00m\n\u001B[32m   1418\u001B[39m \u001B[38;5;28;01melse\u001B[39;00m:\n\u001B[32m-> \u001B[39m\u001B[32m1419\u001B[39m     \u001B[38;5;28;01mreturn\u001B[39;00m \u001B[43mmeth\u001B[49m\u001B[43m(\u001B[49m\n\u001B[32m   1420\u001B[39m \u001B[43m        \u001B[49m\u001B[38;5;28;43mself\u001B[39;49m\u001B[43m,\u001B[49m\n\u001B[32m   1421\u001B[39m \u001B[43m        \u001B[49m\u001B[43mdistilled_parameters\u001B[49m\u001B[43m,\u001B[49m\n\u001B[32m   1422\u001B[39m \u001B[43m        \u001B[49m\u001B[43mexecution_options\u001B[49m\u001B[43m \u001B[49m\u001B[38;5;129;43;01mor\u001B[39;49;00m\u001B[43m \u001B[49m\u001B[43mNO_OPTIONS\u001B[49m\u001B[43m,\u001B[49m\n\u001B[32m   1423\u001B[39m \u001B[43m    \u001B[49m\u001B[43m)\u001B[49m\n",
      "\u001B[36mFile \u001B[39m\u001B[32m~/synthea/syntheaProject/.venv/lib/python3.13/site-packages/sqlalchemy/sql/elements.py:526\u001B[39m, in \u001B[36mClauseElement._execute_on_connection\u001B[39m\u001B[34m(self, connection, distilled_params, execution_options)\u001B[39m\n\u001B[32m    524\u001B[39m     \u001B[38;5;28;01mif\u001B[39;00m TYPE_CHECKING:\n\u001B[32m    525\u001B[39m         \u001B[38;5;28;01massert\u001B[39;00m \u001B[38;5;28misinstance\u001B[39m(\u001B[38;5;28mself\u001B[39m, Executable)\n\u001B[32m--> \u001B[39m\u001B[32m526\u001B[39m     \u001B[38;5;28;01mreturn\u001B[39;00m \u001B[43mconnection\u001B[49m\u001B[43m.\u001B[49m\u001B[43m_execute_clauseelement\u001B[49m\u001B[43m(\u001B[49m\n\u001B[32m    527\u001B[39m \u001B[43m        \u001B[49m\u001B[38;5;28;43mself\u001B[39;49m\u001B[43m,\u001B[49m\u001B[43m \u001B[49m\u001B[43mdistilled_params\u001B[49m\u001B[43m,\u001B[49m\u001B[43m \u001B[49m\u001B[43mexecution_options\u001B[49m\n\u001B[32m    528\u001B[39m \u001B[43m    \u001B[49m\u001B[43m)\u001B[49m\n\u001B[32m    529\u001B[39m \u001B[38;5;28;01melse\u001B[39;00m:\n\u001B[32m    530\u001B[39m     \u001B[38;5;28;01mraise\u001B[39;00m exc.ObjectNotExecutableError(\u001B[38;5;28mself\u001B[39m)\n",
      "\u001B[36mFile \u001B[39m\u001B[32m~/synthea/syntheaProject/.venv/lib/python3.13/site-packages/sqlalchemy/engine/base.py:1641\u001B[39m, in \u001B[36mConnection._execute_clauseelement\u001B[39m\u001B[34m(self, elem, distilled_parameters, execution_options)\u001B[39m\n\u001B[32m   1629\u001B[39m compiled_cache: Optional[CompiledCacheType] = execution_options.get(\n\u001B[32m   1630\u001B[39m     \u001B[33m\"\u001B[39m\u001B[33mcompiled_cache\u001B[39m\u001B[33m\"\u001B[39m, \u001B[38;5;28mself\u001B[39m.engine._compiled_cache\n\u001B[32m   1631\u001B[39m )\n\u001B[32m   1633\u001B[39m compiled_sql, extracted_params, cache_hit = elem._compile_w_cache(\n\u001B[32m   1634\u001B[39m     dialect=dialect,\n\u001B[32m   1635\u001B[39m     compiled_cache=compiled_cache,\n\u001B[32m   (...)\u001B[39m\u001B[32m   1639\u001B[39m     linting=\u001B[38;5;28mself\u001B[39m.dialect.compiler_linting | compiler.WARN_LINTING,\n\u001B[32m   1640\u001B[39m )\n\u001B[32m-> \u001B[39m\u001B[32m1641\u001B[39m ret = \u001B[38;5;28;43mself\u001B[39;49m\u001B[43m.\u001B[49m\u001B[43m_execute_context\u001B[49m\u001B[43m(\u001B[49m\n\u001B[32m   1642\u001B[39m \u001B[43m    \u001B[49m\u001B[43mdialect\u001B[49m\u001B[43m,\u001B[49m\n\u001B[32m   1643\u001B[39m \u001B[43m    \u001B[49m\u001B[43mdialect\u001B[49m\u001B[43m.\u001B[49m\u001B[43mexecution_ctx_cls\u001B[49m\u001B[43m.\u001B[49m\u001B[43m_init_compiled\u001B[49m\u001B[43m,\u001B[49m\n\u001B[32m   1644\u001B[39m \u001B[43m    \u001B[49m\u001B[43mcompiled_sql\u001B[49m\u001B[43m,\u001B[49m\n\u001B[32m   1645\u001B[39m \u001B[43m    \u001B[49m\u001B[43mdistilled_parameters\u001B[49m\u001B[43m,\u001B[49m\n\u001B[32m   1646\u001B[39m \u001B[43m    \u001B[49m\u001B[43mexecution_options\u001B[49m\u001B[43m,\u001B[49m\n\u001B[32m   1647\u001B[39m \u001B[43m    \u001B[49m\u001B[43mcompiled_sql\u001B[49m\u001B[43m,\u001B[49m\n\u001B[32m   1648\u001B[39m \u001B[43m    \u001B[49m\u001B[43mdistilled_parameters\u001B[49m\u001B[43m,\u001B[49m\n\u001B[32m   1649\u001B[39m \u001B[43m    \u001B[49m\u001B[43melem\u001B[49m\u001B[43m,\u001B[49m\n\u001B[32m   1650\u001B[39m \u001B[43m    \u001B[49m\u001B[43mextracted_params\u001B[49m\u001B[43m,\u001B[49m\n\u001B[32m   1651\u001B[39m \u001B[43m    \u001B[49m\u001B[43mcache_hit\u001B[49m\u001B[43m=\u001B[49m\u001B[43mcache_hit\u001B[49m\u001B[43m,\u001B[49m\n\u001B[32m   1652\u001B[39m \u001B[43m\u001B[49m\u001B[43m)\u001B[49m\n\u001B[32m   1653\u001B[39m \u001B[38;5;28;01mif\u001B[39;00m has_events:\n\u001B[32m   1654\u001B[39m     \u001B[38;5;28mself\u001B[39m.dispatch.after_execute(\n\u001B[32m   1655\u001B[39m         \u001B[38;5;28mself\u001B[39m,\n\u001B[32m   1656\u001B[39m         elem,\n\u001B[32m   (...)\u001B[39m\u001B[32m   1660\u001B[39m         ret,\n\u001B[32m   1661\u001B[39m     )\n",
      "\u001B[36mFile \u001B[39m\u001B[32m~/synthea/syntheaProject/.venv/lib/python3.13/site-packages/sqlalchemy/engine/base.py:1846\u001B[39m, in \u001B[36mConnection._execute_context\u001B[39m\u001B[34m(self, dialect, constructor, statement, parameters, execution_options, *args, **kw)\u001B[39m\n\u001B[32m   1844\u001B[39m     \u001B[38;5;28;01mreturn\u001B[39;00m \u001B[38;5;28mself\u001B[39m._exec_insertmany_context(dialect, context)\n\u001B[32m   1845\u001B[39m \u001B[38;5;28;01melse\u001B[39;00m:\n\u001B[32m-> \u001B[39m\u001B[32m1846\u001B[39m     \u001B[38;5;28;01mreturn\u001B[39;00m \u001B[38;5;28;43mself\u001B[39;49m\u001B[43m.\u001B[49m\u001B[43m_exec_single_context\u001B[49m\u001B[43m(\u001B[49m\n\u001B[32m   1847\u001B[39m \u001B[43m        \u001B[49m\u001B[43mdialect\u001B[49m\u001B[43m,\u001B[49m\u001B[43m \u001B[49m\u001B[43mcontext\u001B[49m\u001B[43m,\u001B[49m\u001B[43m \u001B[49m\u001B[43mstatement\u001B[49m\u001B[43m,\u001B[49m\u001B[43m \u001B[49m\u001B[43mparameters\u001B[49m\n\u001B[32m   1848\u001B[39m \u001B[43m    \u001B[49m\u001B[43m)\u001B[49m\n",
      "\u001B[36mFile \u001B[39m\u001B[32m~/synthea/syntheaProject/.venv/lib/python3.13/site-packages/sqlalchemy/engine/base.py:1986\u001B[39m, in \u001B[36mConnection._exec_single_context\u001B[39m\u001B[34m(self, dialect, context, statement, parameters)\u001B[39m\n\u001B[32m   1983\u001B[39m     result = context._setup_result_proxy()\n\u001B[32m   1985\u001B[39m \u001B[38;5;28;01mexcept\u001B[39;00m \u001B[38;5;167;01mBaseException\u001B[39;00m \u001B[38;5;28;01mas\u001B[39;00m e:\n\u001B[32m-> \u001B[39m\u001B[32m1986\u001B[39m     \u001B[38;5;28;43mself\u001B[39;49m\u001B[43m.\u001B[49m\u001B[43m_handle_dbapi_exception\u001B[49m\u001B[43m(\u001B[49m\n\u001B[32m   1987\u001B[39m \u001B[43m        \u001B[49m\u001B[43me\u001B[49m\u001B[43m,\u001B[49m\u001B[43m \u001B[49m\u001B[43mstr_statement\u001B[49m\u001B[43m,\u001B[49m\u001B[43m \u001B[49m\u001B[43meffective_parameters\u001B[49m\u001B[43m,\u001B[49m\u001B[43m \u001B[49m\u001B[43mcursor\u001B[49m\u001B[43m,\u001B[49m\u001B[43m \u001B[49m\u001B[43mcontext\u001B[49m\n\u001B[32m   1988\u001B[39m \u001B[43m    \u001B[49m\u001B[43m)\u001B[49m\n\u001B[32m   1990\u001B[39m \u001B[38;5;28;01mreturn\u001B[39;00m result\n",
      "\u001B[36mFile \u001B[39m\u001B[32m~/synthea/syntheaProject/.venv/lib/python3.13/site-packages/sqlalchemy/engine/base.py:2355\u001B[39m, in \u001B[36mConnection._handle_dbapi_exception\u001B[39m\u001B[34m(self, e, statement, parameters, cursor, context, is_sub_exec)\u001B[39m\n\u001B[32m   2353\u001B[39m \u001B[38;5;28;01melif\u001B[39;00m should_wrap:\n\u001B[32m   2354\u001B[39m     \u001B[38;5;28;01massert\u001B[39;00m sqlalchemy_exception \u001B[38;5;129;01mis\u001B[39;00m \u001B[38;5;129;01mnot\u001B[39;00m \u001B[38;5;28;01mNone\u001B[39;00m\n\u001B[32m-> \u001B[39m\u001B[32m2355\u001B[39m     \u001B[38;5;28;01mraise\u001B[39;00m sqlalchemy_exception.with_traceback(exc_info[\u001B[32m2\u001B[39m]) \u001B[38;5;28;01mfrom\u001B[39;00m\u001B[38;5;250m \u001B[39m\u001B[34;01me\u001B[39;00m\n\u001B[32m   2356\u001B[39m \u001B[38;5;28;01melse\u001B[39;00m:\n\u001B[32m   2357\u001B[39m     \u001B[38;5;28;01massert\u001B[39;00m exc_info[\u001B[32m1\u001B[39m] \u001B[38;5;129;01mis\u001B[39;00m \u001B[38;5;129;01mnot\u001B[39;00m \u001B[38;5;28;01mNone\u001B[39;00m\n",
      "\u001B[36mFile \u001B[39m\u001B[32m~/synthea/syntheaProject/.venv/lib/python3.13/site-packages/sqlalchemy/engine/base.py:1967\u001B[39m, in \u001B[36mConnection._exec_single_context\u001B[39m\u001B[34m(self, dialect, context, statement, parameters)\u001B[39m\n\u001B[32m   1965\u001B[39m                 \u001B[38;5;28;01mbreak\u001B[39;00m\n\u001B[32m   1966\u001B[39m     \u001B[38;5;28;01mif\u001B[39;00m \u001B[38;5;129;01mnot\u001B[39;00m evt_handled:\n\u001B[32m-> \u001B[39m\u001B[32m1967\u001B[39m         \u001B[38;5;28;43mself\u001B[39;49m\u001B[43m.\u001B[49m\u001B[43mdialect\u001B[49m\u001B[43m.\u001B[49m\u001B[43mdo_execute\u001B[49m\u001B[43m(\u001B[49m\n\u001B[32m   1968\u001B[39m \u001B[43m            \u001B[49m\u001B[43mcursor\u001B[49m\u001B[43m,\u001B[49m\u001B[43m \u001B[49m\u001B[43mstr_statement\u001B[49m\u001B[43m,\u001B[49m\u001B[43m \u001B[49m\u001B[43meffective_parameters\u001B[49m\u001B[43m,\u001B[49m\u001B[43m \u001B[49m\u001B[43mcontext\u001B[49m\n\u001B[32m   1969\u001B[39m \u001B[43m        \u001B[49m\u001B[43m)\u001B[49m\n\u001B[32m   1971\u001B[39m \u001B[38;5;28;01mif\u001B[39;00m \u001B[38;5;28mself\u001B[39m._has_events \u001B[38;5;129;01mor\u001B[39;00m \u001B[38;5;28mself\u001B[39m.engine._has_events:\n\u001B[32m   1972\u001B[39m     \u001B[38;5;28mself\u001B[39m.dispatch.after_cursor_execute(\n\u001B[32m   1973\u001B[39m         \u001B[38;5;28mself\u001B[39m,\n\u001B[32m   1974\u001B[39m         cursor,\n\u001B[32m   (...)\u001B[39m\u001B[32m   1978\u001B[39m         context.executemany,\n\u001B[32m   1979\u001B[39m     )\n",
      "\u001B[36mFile \u001B[39m\u001B[32m~/synthea/syntheaProject/.venv/lib/python3.13/site-packages/sqlalchemy/engine/default.py:951\u001B[39m, in \u001B[36mDefaultDialect.do_execute\u001B[39m\u001B[34m(self, cursor, statement, parameters, context)\u001B[39m\n\u001B[32m    950\u001B[39m \u001B[38;5;28;01mdef\u001B[39;00m\u001B[38;5;250m \u001B[39m\u001B[34mdo_execute\u001B[39m(\u001B[38;5;28mself\u001B[39m, cursor, statement, parameters, context=\u001B[38;5;28;01mNone\u001B[39;00m):\n\u001B[32m--> \u001B[39m\u001B[32m951\u001B[39m     \u001B[43mcursor\u001B[49m\u001B[43m.\u001B[49m\u001B[43mexecute\u001B[49m\u001B[43m(\u001B[49m\u001B[43mstatement\u001B[49m\u001B[43m,\u001B[49m\u001B[43m \u001B[49m\u001B[43mparameters\u001B[49m\u001B[43m)\u001B[49m\n",
      "\u001B[31mProgrammingError\u001B[39m: (psycopg2.errors.DuplicateDatabase) database \"synthea\" already exists\n\n[SQL: CREATE DATABASE synthea]\n(Background on this error at: https://sqlalche.me/e/20/f405)"
     ]
    }
   ],
   "execution_count": 10
  },
  {
   "metadata": {
    "ExecuteTime": {
     "end_time": "2025-09-02T12:37:45.280850Z",
     "start_time": "2025-09-02T12:37:45.276958Z"
    }
   },
   "cell_type": "code",
   "source": [
    "DB_URL = f\"postgresql+psycopg2://{USER}:{PASSWORD}@{HOST}:{PORT}/synthea\"\n",
    "engine = create_engine(DB_URL)\n",
    "print(\"Connesso al database synthea\")"
   ],
   "id": "c81b11be9c2dbb4b",
   "outputs": [
    {
     "name": "stdout",
     "output_type": "stream",
     "text": [
      "Connesso al database synthea\n"
     ]
    }
   ],
   "execution_count": 11
  },
  {
   "metadata": {
    "ExecuteTime": {
     "end_time": "2025-09-02T12:37:47.842705Z",
     "start_time": "2025-09-02T12:37:47.778905Z"
    }
   },
   "cell_type": "code",
   "source": [
    "schema = open(\"sql/importDB.sql\").read()\n",
    "\n",
    "with engine.begin() as conn:\n",
    "    if schema.strip():\n",
    "        conn.execute(text(schema))\n",
    "        print(\"Schema creato\")\n",
    "    else:\n",
    "        print(\"Errore\")"
   ],
   "id": "2630e2c1b0bd9a77",
   "outputs": [
    {
     "name": "stdout",
     "output_type": "stream",
     "text": [
      "Schema creato\n"
     ]
    }
   ],
   "execution_count": 12
  },
  {
   "metadata": {},
   "cell_type": "markdown",
   "source": [
    "Comando per scaricare 1000 pazienti:\n",
    "java -jar synthea-with-dependencies.jar -p 1000"
   ],
   "id": "5764a8939658bc49"
  },
  {
   "cell_type": "code",
   "id": "6e4f49bc",
   "metadata": {
    "ExecuteTime": {
     "end_time": "2025-09-02T12:38:05.564194Z",
     "start_time": "2025-09-02T12:38:05.560028Z"
    }
   },
   "source": [
    "# 1) Imposta il percorso alla cartella CSV di Synthea\n",
    "\n",
    "CSV_BASE = Path(\"/Users/sarabuzzi/synthea/syntheaProject/output/csv\")\n",
    "\n",
    "CSV_BASE.resolve(), CSV_BASE.exists()\n"
   ],
   "outputs": [
    {
     "data": {
      "text/plain": [
       "(PosixPath('/Users/sarabuzzi/synthea/syntheaProject/output/csv'), True)"
      ]
     },
     "execution_count": 14,
     "metadata": {},
     "output_type": "execute_result"
    }
   ],
   "execution_count": 14
  },
  {
   "metadata": {
    "ExecuteTime": {
     "end_time": "2025-09-02T12:38:08.616059Z",
     "start_time": "2025-09-02T12:38:06.339950Z"
    }
   },
   "cell_type": "code",
   "source": [
    "\n",
    "def load_csv_to_sql(table, file):\n",
    "    df = pd.read_csv(file)\n",
    "    df.columns = [c.lower() for c in df.columns]\n",
    "    df.to_sql(table, engine, if_exists=\"append\", index=False)\n",
    "\n",
    "\n",
    "load_csv_to_sql(\"patients\", f\"{CSV_BASE}/patients.csv\")\n",
    "load_csv_to_sql(\"encounters\", f\"{CSV_BASE}/encounters.csv\")\n",
    "load_csv_to_sql(\"conditions\", f\"{CSV_BASE}/conditions.csv\")\n",
    "load_csv_to_sql(\"medications\", f\"{CSV_BASE}/medications.csv\")\n",
    "load_csv_to_sql(\"observations\", f\"{CSV_BASE}/observations.csv\")\n"
   ],
   "id": "98111d1173fb9231",
   "outputs": [],
   "execution_count": 15
  },
  {
   "metadata": {
    "ExecuteTime": {
     "end_time": "2025-08-26T13:18:30.740328Z",
     "start_time": "2025-08-26T13:18:30.737921Z"
    }
   },
   "cell_type": "code",
   "source": [
    "def run(sql_or_text, show=False):\n",
    "    with engine.begin() as conn:\n",
    "        stmt = text(sql_or_text) if isinstance(sql_or_text, str) else sql_or_text\n",
    "        result = conn.execute(stmt)\n",
    "        if result.returns_rows:\n",
    "            df = pd.DataFrame(result.fetchall(), columns=result.keys())\n",
    "            if show:\n",
    "                display(df)\n",
    "            return df\n",
    "        return None"
   ],
   "id": "823d1755e01c1a41",
   "outputs": [],
   "execution_count": 11
  },
  {
   "metadata": {
    "ExecuteTime": {
     "end_time": "2025-08-25T13:19:02.166320Z",
     "start_time": "2025-08-25T13:19:02.158320Z"
    }
   },
   "cell_type": "code",
   "source": [
    "# test query\n",
    "run(\"\"\"\n",
    "    SELECT BIRTHDATE\n",
    "    FROM PATIENTS\n",
    "    WHERE Id = 'c10e497b-ed25-d6c6-e043-144724bf84da'\n",
    "    \"\"\", show=True);\n"
   ],
   "id": "fb2f0d17ad279fe",
   "outputs": [
    {
     "data": {
      "text/plain": [
       "    birthdate\n",
       "0  2009-01-23"
      ],
      "text/html": [
       "<div>\n",
       "<style scoped>\n",
       "    .dataframe tbody tr th:only-of-type {\n",
       "        vertical-align: middle;\n",
       "    }\n",
       "\n",
       "    .dataframe tbody tr th {\n",
       "        vertical-align: top;\n",
       "    }\n",
       "\n",
       "    .dataframe thead th {\n",
       "        text-align: right;\n",
       "    }\n",
       "</style>\n",
       "<table border=\"1\" class=\"dataframe\">\n",
       "  <thead>\n",
       "    <tr style=\"text-align: right;\">\n",
       "      <th></th>\n",
       "      <th>birthdate</th>\n",
       "    </tr>\n",
       "  </thead>\n",
       "  <tbody>\n",
       "    <tr>\n",
       "      <th>0</th>\n",
       "      <td>2009-01-23</td>\n",
       "    </tr>\n",
       "  </tbody>\n",
       "</table>\n",
       "</div>"
      ]
     },
     "metadata": {},
     "output_type": "display_data"
    }
   ],
   "execution_count": 12
  },
  {
   "metadata": {},
   "cell_type": "markdown",
   "source": [
    "FRAMMENTAZIONE VERTICALE\n",
    "\n",
    "# PATIENTS\n",
    "Owner(PATIENTS) = { id, deathdate, first, last, ssn, drivers, passport, address, city, state, county, fips, zip, lat, lon, income, birthplace }\n",
    "Server(PATIENTS) = { id, birthdate, gender, race, ethnicity, marital }\n",
    "\n"
   ],
   "id": "1de6f281b0ed358e"
  },
  {
   "metadata": {
    "ExecuteTime": {
     "end_time": "2025-08-26T10:41:06.712480Z",
     "start_time": "2025-08-26T10:41:06.697012Z"
    }
   },
   "cell_type": "code",
   "source": [
    "sql = open(\"sql/fragmentPatients.sql\").read()\n",
    "\n",
    "with engine.begin() as conn:\n",
    "    if sql.strip():\n",
    "        conn.execute(text(sql))\n",
    "        print(\"Frammentazione creata\")\n",
    "    else:\n",
    "        print(\"Errore\")\n",
    "\n",
    "# O semplicemente uso la funzione run(sql)"
   ],
   "id": "b83f12a8630c448d",
   "outputs": [
    {
     "name": "stdout",
     "output_type": "stream",
     "text": [
      "Frammentazione creata\n"
     ]
    }
   ],
   "execution_count": 114
  },
  {
   "metadata": {},
   "cell_type": "markdown",
   "source": "",
   "id": "d5fa1792900e6447"
  }
 ],
 "metadata": {},
 "nbformat": 4,
 "nbformat_minor": 5
}
