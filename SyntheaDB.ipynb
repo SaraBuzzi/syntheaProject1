{
 "cells": [
  {
   "metadata": {
    "ExecuteTime": {
     "end_time": "2025-08-29T08:39:37.760683Z",
     "start_time": "2025-08-29T08:39:37.516383Z"
    }
   },
   "cell_type": "code",
   "source": [
    "from sqlalchemy import create_engine, text\n",
    "import pandas as pd\n",
    "from pathlib import Path\n",
    "import re\n",
    "from typing import Set, Dict, List, Tuple\n",
    "import os, uuid\n",
    "\n",
    "from sqlalchemy.orm.base import PASSIVE_OFF"
   ],
   "id": "fcefb5b38f473ee9",
   "outputs": [],
   "execution_count": 1
  },
  {
   "metadata": {
    "ExecuteTime": {
     "end_time": "2025-08-26T13:16:50.576165Z",
     "start_time": "2025-08-26T13:16:50.573505Z"
    }
   },
   "cell_type": "code",
   "source": [
    "USER = \"postgres\"\n",
    "HOST = \"localhost\"\n",
    "PORT = \"5432\"\n",
    "PASSWORD = \"user\"\n"
   ],
   "id": "7a96b03a8f7db476",
   "outputs": [],
   "execution_count": 1
  },
  {
   "metadata": {
    "ExecuteTime": {
     "end_time": "2025-08-26T13:17:00.616916Z",
     "start_time": "2025-08-26T13:17:00.573649Z"
    }
   },
   "cell_type": "code",
   "source": [
    "DB_ADMIN_URL = f\"postgresql+psycopg2://{USER}:{PASSWORD}@{HOST}:{PORT}/postgres\"\n",
    "engine_admin = create_engine(DB_ADMIN_URL, isolation_level=\"AUTOCOMMIT\")"
   ],
   "id": "164523c48625e420",
   "outputs": [],
   "execution_count": 4
  },
  {
   "metadata": {},
   "cell_type": "code",
   "source": [
    "with engine_admin.connect() as conn:\n",
    "    conn.execute(text(\"CREATE DATABASE synthea\"))\n",
    "print(\"Database 'synthea' creato (o già esistente)\")"
   ],
   "id": "77deb64fab41af49",
   "outputs": [],
   "execution_count": null
  },
  {
   "metadata": {
    "ExecuteTime": {
     "end_time": "2025-08-26T13:17:03.129196Z",
     "start_time": "2025-08-26T13:17:03.126025Z"
    }
   },
   "cell_type": "code",
   "source": [
    "DB_URL = f\"postgresql+psycopg2://{USER}:{PASSWORD}@{HOST}:{PORT}/synthea\"\n",
    "engine = create_engine(DB_URL)\n",
    "print(\"Connesso al database synthea\")"
   ],
   "id": "c81b11be9c2dbb4b",
   "outputs": [
    {
     "name": "stdout",
     "output_type": "stream",
     "text": [
      "Connesso al database synthea\n"
     ]
    }
   ],
   "execution_count": 5
  },
  {
   "metadata": {
    "ExecuteTime": {
     "end_time": "2025-08-26T10:40:57.253605Z",
     "start_time": "2025-08-26T10:40:57.219730Z"
    }
   },
   "cell_type": "code",
   "source": [
    "schema = open(\"sql/importDB.sql\").read()\n",
    "\n",
    "with engine.begin() as conn:\n",
    "    if schema.strip():\n",
    "        conn.execute(text(schema))\n",
    "        print(\"Schema creato\")\n",
    "    else:\n",
    "        print(\"Errore\")"
   ],
   "id": "2630e2c1b0bd9a77",
   "outputs": [
    {
     "name": "stdout",
     "output_type": "stream",
     "text": [
      "Schema creato\n"
     ]
    }
   ],
   "execution_count": 112
  },
  {
   "cell_type": "code",
   "id": "6e4f49bc",
   "metadata": {
    "ExecuteTime": {
     "end_time": "2025-08-26T10:05:24.346687Z",
     "start_time": "2025-08-26T10:05:24.343317Z"
    }
   },
   "source": [
    "# 1) Imposta il percorso alla cartella CSV di Synthea\n",
    "\n",
    "CSV_BASE = Path(\"/Users/sarabuzzi/synthea/syntheaProject/output/csv\")\n",
    "\n",
    "CSV_BASE.resolve(), CSV_BASE.exists()\n"
   ],
   "outputs": [
    {
     "data": {
      "text/plain": [
       "(PosixPath('/Users/sarabuzzi/synthea/syntheaProject/output/csv'), True)"
      ]
     },
     "execution_count": 80,
     "metadata": {},
     "output_type": "execute_result"
    }
   ],
   "execution_count": 80
  },
  {
   "metadata": {
    "ExecuteTime": {
     "end_time": "2025-08-26T10:41:02.803810Z",
     "start_time": "2025-08-26T10:41:00.361841Z"
    }
   },
   "cell_type": "code",
   "source": [
    "\n",
    "def load_csv_to_sql(table, file):\n",
    "    df = pd.read_csv(file)\n",
    "    df.columns = [c.lower() for c in df.columns]\n",
    "    df.to_sql(table, engine, if_exists=\"append\", index=False)\n",
    "\n",
    "\n",
    "load_csv_to_sql(\"patients\", f\"{CSV_BASE}/patients.csv\")\n",
    "load_csv_to_sql(\"encounters\", f\"{CSV_BASE}/encounters.csv\")\n",
    "load_csv_to_sql(\"conditions\", f\"{CSV_BASE}/conditions.csv\")\n",
    "load_csv_to_sql(\"medications\", f\"{CSV_BASE}/medications.csv\")\n",
    "load_csv_to_sql(\"observations\", f\"{CSV_BASE}/observations.csv\")\n"
   ],
   "id": "98111d1173fb9231",
   "outputs": [],
   "execution_count": 113
  },
  {
   "metadata": {
    "ExecuteTime": {
     "end_time": "2025-08-26T13:18:30.740328Z",
     "start_time": "2025-08-26T13:18:30.737921Z"
    }
   },
   "cell_type": "code",
   "source": [
    "def run(sql_or_text, show=False):\n",
    "    with engine.begin() as conn:\n",
    "        stmt = text(sql_or_text) if isinstance(sql_or_text, str) else sql_or_text\n",
    "        result = conn.execute(stmt)\n",
    "        if result.returns_rows:\n",
    "            df = pd.DataFrame(result.fetchall(), columns=result.keys())\n",
    "            if show:\n",
    "                display(df)\n",
    "            return df\n",
    "        return None"
   ],
   "id": "823d1755e01c1a41",
   "outputs": [],
   "execution_count": 11
  },
  {
   "metadata": {
    "ExecuteTime": {
     "end_time": "2025-08-25T13:19:02.166320Z",
     "start_time": "2025-08-25T13:19:02.158320Z"
    }
   },
   "cell_type": "code",
   "source": [
    "# test query\n",
    "run(\"\"\"\n",
    "    SELECT BIRTHDATE\n",
    "    FROM PATIENTS\n",
    "    WHERE Id = 'c10e497b-ed25-d6c6-e043-144724bf84da'\n",
    "    \"\"\", show=True);\n"
   ],
   "id": "fb2f0d17ad279fe",
   "outputs": [
    {
     "data": {
      "text/plain": [
       "    birthdate\n",
       "0  2009-01-23"
      ],
      "text/html": [
       "<div>\n",
       "<style scoped>\n",
       "    .dataframe tbody tr th:only-of-type {\n",
       "        vertical-align: middle;\n",
       "    }\n",
       "\n",
       "    .dataframe tbody tr th {\n",
       "        vertical-align: top;\n",
       "    }\n",
       "\n",
       "    .dataframe thead th {\n",
       "        text-align: right;\n",
       "    }\n",
       "</style>\n",
       "<table border=\"1\" class=\"dataframe\">\n",
       "  <thead>\n",
       "    <tr style=\"text-align: right;\">\n",
       "      <th></th>\n",
       "      <th>birthdate</th>\n",
       "    </tr>\n",
       "  </thead>\n",
       "  <tbody>\n",
       "    <tr>\n",
       "      <th>0</th>\n",
       "      <td>2009-01-23</td>\n",
       "    </tr>\n",
       "  </tbody>\n",
       "</table>\n",
       "</div>"
      ]
     },
     "metadata": {},
     "output_type": "display_data"
    }
   ],
   "execution_count": 12
  },
  {
   "metadata": {},
   "cell_type": "markdown",
   "source": [
    "FRAMMENTAZIONE VERTICALE\n",
    "\n",
    "# PATIENTS\n",
    "Owner(PATIENTS) = { id, deathdate, first, last, ssn, drivers, passport, address, city, state, county, fips, zip, lat, lon, income, birthplace }\n",
    "Server(PATIENTS) = { id, birthdate, gender, race, ethnicity, marital }\n",
    "\n"
   ],
   "id": "1de6f281b0ed358e"
  },
  {
   "metadata": {
    "ExecuteTime": {
     "end_time": "2025-08-26T10:41:06.712480Z",
     "start_time": "2025-08-26T10:41:06.697012Z"
    }
   },
   "cell_type": "code",
   "source": [
    "sql = open(\"sql/fragmentPatients.sql\").read()\n",
    "\n",
    "with engine.begin() as conn:\n",
    "    if sql.strip():\n",
    "        conn.execute(text(sql))\n",
    "        print(\"Frammentazione creata\")\n",
    "    else:\n",
    "        print(\"Errore\")\n",
    "\n",
    "# O semplicemente uso la funzione run(sql)"
   ],
   "id": "b83f12a8630c448d",
   "outputs": [
    {
     "name": "stdout",
     "output_type": "stream",
     "text": [
      "Frammentazione creata\n"
     ]
    }
   ],
   "execution_count": 114
  },
  {
   "metadata": {},
   "cell_type": "markdown",
   "source": "",
   "id": "d5fa1792900e6447"
  }
 ],
 "metadata": {},
 "nbformat": 4,
 "nbformat_minor": 5
}
